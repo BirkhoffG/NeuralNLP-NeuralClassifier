{
 "cells": [
  {
   "cell_type": "code",
   "execution_count": 1,
   "metadata": {},
   "outputs": [],
   "source": [
    "import pandas as pd\n",
    "from sklearn.model_selection import train_test_split\n",
    "from dataset.data_preprocessor import clean_str\n",
    "import json"
   ]
  },
  {
   "cell_type": "code",
   "execution_count": 36,
   "metadata": {},
   "outputs": [],
   "source": [
    "train = pd.read_csv('data/nlp_annotated_train.csv')\n",
    "test = pd.read_csv('data/nlp_annotated_test.csv')"
   ]
  },
  {
   "cell_type": "code",
   "execution_count": 37,
   "metadata": {},
   "outputs": [
    {
     "data": {
      "text/plain": [
       "107716"
      ]
     },
     "execution_count": 37,
     "metadata": {},
     "output_type": "execute_result"
    }
   ],
   "source": [
    "len(train) + len(test)"
   ]
  },
  {
   "cell_type": "code",
   "execution_count": 38,
   "metadata": {},
   "outputs": [
    {
     "data": {
      "text/plain": [
       "Index(['original_text', 'translated_text', 'label'], dtype='object')"
      ]
     },
     "execution_count": 38,
     "metadata": {},
     "output_type": "execute_result"
    }
   ],
   "source": [
    "train.columns"
   ]
  },
  {
   "cell_type": "code",
   "execution_count": 39,
   "metadata": {},
   "outputs": [
    {
     "data": {
      "text/plain": [
       "0"
      ]
     },
     "execution_count": 39,
     "metadata": {},
     "output_type": "execute_result"
    }
   ],
   "source": [
    "sum(train['label'].isna())"
   ]
  },
  {
   "cell_type": "code",
   "execution_count": 29,
   "metadata": {},
   "outputs": [
    {
     "data": {
      "text/plain": [
       "0"
      ]
     },
     "execution_count": 29,
     "metadata": {},
     "output_type": "execute_result"
    }
   ],
   "source": [
    "sum(test['label'].isna())"
   ]
  },
  {
   "cell_type": "code",
   "execution_count": 41,
   "metadata": {},
   "outputs": [],
   "source": [
    "def generate_json_list(df: pd.DataFrame, use_translation=False):\n",
    "    text_col = 'original_text' if not use_translation else 'translated_text'\n",
    "    return [\n",
    "        {\"doc_token\": clean_str(text).split(\" \"), \"doc_label\": [intent], \"doc_keyword\": [], \"doc_topic\": []} for text, intent in zip(df[text_col], df['label'])\n",
    "    ]"
   ]
  },
  {
   "cell_type": "code",
   "execution_count": 42,
   "metadata": {},
   "outputs": [],
   "source": [
    "def to_json_file(data_list: list, json_file: str):\n",
    "    with open(json_file, \"w\") as fout:\n",
    "        for data in data_list:\n",
    "            sample = json.dumps(data, ensure_ascii=False)\n",
    "            fout.write(f\"{sample}\\n\")\n"
   ]
  },
  {
   "cell_type": "code",
   "execution_count": 45,
   "metadata": {},
   "outputs": [],
   "source": [
    "train_data_list = generate_json_list(train)\n",
    "to_json_file(train_data_list, 'data/train_original.json')"
   ]
  },
  {
   "cell_type": "code",
   "execution_count": 46,
   "metadata": {},
   "outputs": [],
   "source": [
    "train_data_list = generate_json_list(train, use_translation=True)\n",
    "to_json_file(train_data_list, 'data/train_translated.json')"
   ]
  },
  {
   "cell_type": "code",
   "execution_count": 47,
   "metadata": {},
   "outputs": [],
   "source": [
    "test_data_list = generate_json_list(test)\n",
    "to_json_file(test_data_list, 'data/test_original.json')"
   ]
  },
  {
   "cell_type": "code",
   "execution_count": 48,
   "metadata": {},
   "outputs": [],
   "source": [
    "test_data_list = generate_json_list(test, use_translation=True)\n",
    "to_json_file(test_data_list, 'data/test_translated.json')"
   ]
  }
 ],
 "metadata": {
  "interpreter": {
   "hash": "1aebd4a71fcec916e49c5e2d294321100f54b5d9bbeca9249da939e91b36ccc5"
  },
  "kernelspec": {
   "display_name": "Python 3.7.10 64-bit ('base': conda)",
   "language": "python",
   "name": "python3"
  },
  "language_info": {
   "codemirror_mode": {
    "name": "ipython",
    "version": 3
   },
   "file_extension": ".py",
   "mimetype": "text/x-python",
   "name": "python",
   "nbconvert_exporter": "python",
   "pygments_lexer": "ipython3",
   "version": "3.7.10"
  },
  "orig_nbformat": 4
 },
 "nbformat": 4,
 "nbformat_minor": 2
}
